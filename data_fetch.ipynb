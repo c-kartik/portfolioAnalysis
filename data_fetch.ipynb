{
 "cells": [
  {
   "cell_type": "code",
   "execution_count": 2,
   "id": "9a50f89b-0e15-4bff-94a3-4e791be28045",
   "metadata": {
    "tags": []
   },
   "outputs": [],
   "source": [
    "import yfinance as yf\n",
    "import pandas as pd\n",
    "import numpy as np\n",
    "\n",
    "def fetch_stock_data(tickers, start_date, end_date):\n",
    "    \"\"\"\n",
    "    Fetch historical stock data for the given tickers and date range.\n",
    "\n",
    "    Args:\n",
    "        tickers (list): List of stock tickers.\n",
    "        start_date (str): Start date in 'YYYY-MM-DD' format.\n",
    "        end_date (str): End date in 'YYYY-MM-DD' format.\n",
    "\n",
    "    Returns:\n",
    "        pd.DataFrame: Cleaned stock price data with daily returns.\n",
    "    \"\"\"\n",
    "    try:\n",
    "        # Download historical data\n",
    "        data = yf.download(tickers, start=start_date, end=end_date)\n",
    "        if data.empty:\n",
    "            raise ValueError(\"No data fetched. Check the tickers or date range.\")\n",
    "        \n",
    "        # Extract adjusted close prices\n",
    "        adj_close = data['Adj Close']\n",
    "        \n",
    "        # Handle missing values\n",
    "        adj_close = adj_close.fillna(method=\"ffill\").fillna(method=\"bfill\")\n",
    "        \n",
    "        # Compute daily returns\n",
    "        daily_returns = adj_close.pct_change().dropna()\n",
    "        \n",
    "        return adj_close, daily_returns\n",
    "\n",
    "    except Exception as e:\n",
    "        print(f\"Error fetching data: {e}\")\n",
    "        return None, None\n"
   ]
  }
 ],
 "metadata": {
  "kernelspec": {
   "display_name": "Python 3 (ipykernel)",
   "language": "python",
   "name": "python3"
  },
  "language_info": {
   "codemirror_mode": {
    "name": "ipython",
    "version": 3
   },
   "file_extension": ".py",
   "mimetype": "text/x-python",
   "name": "python",
   "nbconvert_exporter": "python",
   "pygments_lexer": "ipython3",
   "version": "3.11.7"
  }
 },
 "nbformat": 4,
 "nbformat_minor": 5
}

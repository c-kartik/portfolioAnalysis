{
 "cells": [
  {
   "cell_type": "code",
   "execution_count": 3,
   "id": "7c4605c3-5f7c-4559-8821-a2c6cf2f7e2f",
   "metadata": {
    "tags": []
   },
   "outputs": [],
   "source": [
    "import pandas as pd\n",
    "import matplotlib.pyplot as plt\n",
    "\n",
    "def calculate_portfolio_cumulative_returns(weights, daily_returns):\n",
    "    \"\"\"\n",
    "    Calculate the portfolio's cumulative returns using optimized weights.\n",
    "\n",
    "    Args:\n",
    "        weights (list): Optimized portfolio weights.\n",
    "        daily_returns (pd.DataFrame): Daily returns of stocks.\n",
    "\n",
    "    Returns:\n",
    "        pd.Series: Cumulative portfolio returns.\n",
    "    \"\"\"\n",
    "    portfolio_returns = daily_returns.dot(weights)\n",
    "    cumulative_returns = (1 + portfolio_returns).cumprod()\n",
    "    return cumulative_returns\n",
    "\n",
    "\n",
    "def fetch_benchmark_returns(ticker, start_date, end_date):\n",
    "    \"\"\"\n",
    "    Fetch historical returns for a benchmark index.\n",
    "\n",
    "    Args:\n",
    "        ticker (str): Ticker symbol of the benchmark index (e.g., \"^GSPC\" for S&P 500).\n",
    "        start_date (str): Start date for historical data.\n",
    "        end_date (str): End date for historical data.\n",
    "\n",
    "    Returns:\n",
    "        pd.Series: Benchmark cumulative returns.\n",
    "    \"\"\"\n",
    "    import yfinance as yf\n",
    "    benchmark_data = yf.download(ticker, start=start_date, end=end_date)\n",
    "    benchmark_returns = benchmark_data[\"Adj Close\"].pct_change().fillna(0)\n",
    "    cumulative_benchmark_returns = (1 + benchmark_returns).cumprod()\n",
    "    return cumulative_benchmark_returns\n",
    "\n",
    "\n",
    "def plot_cumulative_returns(portfolio_cumulative, benchmark_cumulative, benchmark_name=\"S&P 500\"):\n",
    "    \"\"\"\n",
    "    Plot cumulative returns of the portfolio and benchmark.\n",
    "\n",
    "    Args:\n",
    "        portfolio_cumulative (pd.Series): Cumulative portfolio returns.\n",
    "        benchmark_cumulative (pd.Series): Cumulative benchmark returns.\n",
    "        benchmark_name (str): Name of the benchmark (default: \"S&P 500\").\n",
    "    \"\"\"\n",
    "    plt.figure(figsize=(12, 6))\n",
    "    portfolio_cumulative.plot(label=\"Portfolio\", color=\"blue\")\n",
    "    benchmark_cumulative.plot(label=benchmark_name, color=\"green\")\n",
    "    plt.title(\"Cumulative Returns: Portfolio vs Benchmark\")\n",
    "    plt.xlabel(\"Date\")\n",
    "    plt.ylabel(\"Cumulative Returns\")\n",
    "    plt.legend()\n",
    "    plt.grid(True)\n",
    "    plt.show()\n"
   ]
  },
  {
   "cell_type": "code",
   "execution_count": null,
   "id": "61bdaa80-8875-48c4-a0f9-1d01c7f58be6",
   "metadata": {},
   "outputs": [],
   "source": []
  }
 ],
 "metadata": {
  "kernelspec": {
   "display_name": "Python 3 (ipykernel)",
   "language": "python",
   "name": "python3"
  },
  "language_info": {
   "codemirror_mode": {
    "name": "ipython",
    "version": 3
   },
   "file_extension": ".py",
   "mimetype": "text/x-python",
   "name": "python",
   "nbconvert_exporter": "python",
   "pygments_lexer": "ipython3",
   "version": "3.11.7"
  }
 },
 "nbformat": 4,
 "nbformat_minor": 5
}
